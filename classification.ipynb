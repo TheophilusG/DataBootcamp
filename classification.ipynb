{
  "nbformat": 4,
  "nbformat_minor": 0,
  "metadata": {
    "colab": {
      "provenance": [],
      "authorship_tag": "ABX9TyOj2YhKfdfFWs4BsMQMQ9dg",
      "include_colab_link": true
    },
    "kernelspec": {
      "name": "python3",
      "display_name": "Python 3"
    },
    "language_info": {
      "name": "python"
    }
  },
  "cells": [
    {
      "cell_type": "markdown",
      "metadata": {
        "id": "view-in-github",
        "colab_type": "text"
      },
      "source": [
        "<a href=\"https://colab.research.google.com/github/TheophilusG/DataBootcamp/blob/main/classification.ipynb\" target=\"_parent\"><img src=\"https://colab.research.google.com/assets/colab-badge.svg\" alt=\"Open In Colab\"/></a>"
      ]
    },
    {
      "cell_type": "code",
      "execution_count": null,
      "metadata": {
        "colab": {
          "base_uri": "https://localhost:8080/"
        },
        "id": "Kl1rReGI822k",
        "outputId": "954aa8af-2ac7-4f96-834f-fc24f0f8148e"
      },
      "outputs": [
        {
          "output_type": "stream",
          "name": "stdout",
          "text": [
            "Requirement already satisfied: pandas in /usr/local/lib/python3.10/dist-packages (2.2.2)\n",
            "Requirement already satisfied: scikit-learn in /usr/local/lib/python3.10/dist-packages (1.5.2)\n",
            "Requirement already satisfied: numpy>=1.22.4 in /usr/local/lib/python3.10/dist-packages (from pandas) (1.26.4)\n",
            "Requirement already satisfied: python-dateutil>=2.8.2 in /usr/local/lib/python3.10/dist-packages (from pandas) (2.8.2)\n",
            "Requirement already satisfied: pytz>=2020.1 in /usr/local/lib/python3.10/dist-packages (from pandas) (2024.2)\n",
            "Requirement already satisfied: tzdata>=2022.7 in /usr/local/lib/python3.10/dist-packages (from pandas) (2024.2)\n",
            "Requirement already satisfied: scipy>=1.6.0 in /usr/local/lib/python3.10/dist-packages (from scikit-learn) (1.13.1)\n",
            "Requirement already satisfied: joblib>=1.2.0 in /usr/local/lib/python3.10/dist-packages (from scikit-learn) (1.4.2)\n",
            "Requirement already satisfied: threadpoolctl>=3.1.0 in /usr/local/lib/python3.10/dist-packages (from scikit-learn) (3.5.0)\n",
            "Requirement already satisfied: six>=1.5 in /usr/local/lib/python3.10/dist-packages (from python-dateutil>=2.8.2->pandas) (1.16.0)\n"
          ]
        }
      ],
      "source": [
        "pip install pandas scikit-learn"
      ]
    },
    {
      "cell_type": "code",
      "source": [
        "import pandas as pd\n",
        "\n",
        "# Load the datasets\n",
        "train_data = pd.read_csv('/content/train data.csv')\n",
        "test_data = pd.read_csv('/content/test data.csv')"
      ],
      "metadata": {
        "id": "hwe0Ve0Z8_n9"
      },
      "execution_count": null,
      "outputs": []
    },
    {
      "cell_type": "code",
      "source": [
        "from sklearn.preprocessing import LabelEncoder, StandardScaler\n",
        "\n",
        "def preprocess_data(data, encoders=None, scaler=None, is_train=True):\n",
        "    categorical_columns = ['person_home_ownership', 'loan_intent', 'loan_grade', 'cb_person_default_on_file']\n",
        "    numerical_columns = ['person_age', 'person_income', 'person_emp_length',\n",
        "                         'loan_amnt', 'loan_int_rate', 'loan_percent_income',\n",
        "                         'cb_person_cred_hist_length']\n",
        "\n",
        "    # Encode categorical variables\n",
        "    if is_train:\n",
        "        encoders = {col: LabelEncoder().fit(data[col]) for col in categorical_columns}\n",
        "    for col in categorical_columns:\n",
        "        data[col] = encoders[col].transform(data[col])\n",
        "\n",
        "    # Scale numerical variables\n",
        "    if is_train:\n",
        "        scaler = StandardScaler().fit(data[numerical_columns])\n",
        "    data[numerical_columns] = scaler.transform(data[numerical_columns])\n",
        "\n",
        "    return data, encoders, scaler\n",
        "\n",
        "# Split training data into features and target\n",
        "X_train = train_data.drop(columns=['id', 'loan_status'])\n",
        "y_train = train_data['loan_status']\n",
        "\n",
        "# Preprocess training data\n",
        "X_train, encoders, scaler = preprocess_data(X_train, is_train=True)\n"
      ],
      "metadata": {
        "id": "AvCY9Ks29GSj"
      },
      "execution_count": null,
      "outputs": []
    },
    {
      "cell_type": "code",
      "source": [
        "from sklearn.ensemble import RandomForestClassifier\n",
        "from sklearn.metrics import precision_score\n",
        "\n",
        "# Train-test split for evaluation\n",
        "from sklearn.model_selection import train_test_split\n",
        "X_train_split, X_val_split, y_train_split, y_val_split = train_test_split(X_train, y_train, test_size=0.2, random_state=42, stratify=y_train)\n",
        "\n",
        "# Train the model\n",
        "rf_model = RandomForestClassifier(random_state=42, class_weight='balanced', n_jobs=-1)\n",
        "rf_model.fit(X_train_split, y_train_split)\n",
        "\n",
        "# Evaluate precision on the validation set\n",
        "y_val_pred = rf_model.predict(X_val_split)\n",
        "print(f\"Precision on validation set: {precision_score(y_val_split, y_val_pred):.4f}\")"
      ],
      "metadata": {
        "colab": {
          "base_uri": "https://localhost:8080/"
        },
        "id": "xaaoJhur9I24",
        "outputId": "562f6ae1-a857-450c-ca9e-514b120bb306"
      },
      "execution_count": null,
      "outputs": [
        {
          "output_type": "stream",
          "name": "stdout",
          "text": [
            "Precision on validation set: 0.9371\n"
          ]
        }
      ]
    },
    {
      "cell_type": "code",
      "source": [
        "# Preprocess test data\n",
        "X_test = test_data.drop(columns=['id'])\n",
        "X_test, _, _ = preprocess_data(X_test, encoders=encoders, scaler=scaler, is_train=False)"
      ],
      "metadata": {
        "id": "x5Tdt1Wt9Rks"
      },
      "execution_count": null,
      "outputs": []
    },
    {
      "cell_type": "code",
      "source": [
        "# Predict on the test data\n",
        "test_predictions = rf_model.predict(X_test)\n",
        "\n",
        "# Create the submission DataFrame\n",
        "submission = test_data[['id']].copy()\n",
        "submission['prediction'] = test_predictions\n",
        "\n",
        "# Save the submission file\n",
        "submission.to_csv(\"submission.csv\", index=False)\n",
        "print(\"Submission file saved as 'submission.csv'\")"
      ],
      "metadata": {
        "colab": {
          "base_uri": "https://localhost:8080/"
        },
        "id": "qMuUTFqY9VIH",
        "outputId": "dc8df767-c98c-4601-9845-0b31022325ab"
      },
      "execution_count": null,
      "outputs": [
        {
          "output_type": "stream",
          "name": "stdout",
          "text": [
            "Submission file saved as 'submission.csv'\n"
          ]
        }
      ]
    }
  ]
}